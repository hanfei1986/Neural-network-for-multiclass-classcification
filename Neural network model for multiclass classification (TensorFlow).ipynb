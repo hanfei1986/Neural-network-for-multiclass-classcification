{
 "cells": [
  {
   "cell_type": "code",
   "execution_count": 1,
   "metadata": {},
   "outputs": [],
   "source": [
    "import pandas as pd\n",
    "import numpy as np\n",
    "import matplotlib.pyplot as plt"
   ]
  },
  {
   "cell_type": "code",
   "execution_count": 2,
   "metadata": {},
   "outputs": [],
   "source": [
    "df = pd.read_excel(\"data.xlsx\")\n",
    "df.dropna(subset=['Credit_Score'], inplace=True)\n",
    "df.reset_index(drop=True, inplace=True)"
   ]
  },
  {
   "cell_type": "code",
   "execution_count": 3,
   "metadata": {},
   "outputs": [],
   "source": [
    "x_columns = df.columns.tolist()\n",
    "x_columns.remove('Credit_Score')\n",
    "X = df[x_columns]\n",
    "y = df['Credit_Score']"
   ]
  },
  {
   "cell_type": "code",
   "execution_count": 4,
   "metadata": {},
   "outputs": [],
   "source": [
    "from sklearn.model_selection import train_test_split\n",
    "X_train, X_test, y_train, y_test = train_test_split(X, y, test_size=0.2, random_state=42)"
   ]
  },
  {
   "cell_type": "code",
   "execution_count": 5,
   "metadata": {},
   "outputs": [],
   "source": [
    "from sklearn.preprocessing import LabelEncoder\n",
    "\n",
    "class Data_Transformer(object):\n",
    "    \n",
    "    def fit(self, X, y=None):\n",
    "        self.mean_age = X[\"Age\"].mean()\n",
    "        self.occu_le = LabelEncoder() # create label-encoder\n",
    "        encoded_occupation = pd.Series(self.occu_le.fit_transform(X[\"Occupation\"])) # fit and transform occupation with label-encoder\n",
    "        self.majority_occupation = encoded_occupation.mode()[0] # obtain majority occupation code\n",
    "        self.mean_annual_income = X[\"Annual_Income\"].mean()\n",
    "        self.mean_monthly_inhand_salary = X[\"Monthly_Inhand_Salary\"].mean()\n",
    "        self.mean_num_bank_accounts = X[\"Num_Bank_Accounts\"].mean()\n",
    "        self.mean_num_creadit_card = X[\"Num_Credit_Card\"].mean()\n",
    "        self.mean_num_interest_rate = X['Interest_Rate'].mean()\n",
    "        self.mean_num_of_loan = X['Num_of_Loan'].mean()\n",
    "        self.mean_delay_from_due_date = X['Delay_from_due_date'].mean()\n",
    "        self.mean_num_of_delayed_payment = X['Num_of_Delayed_Payment'].mean()\n",
    "        self.mean_changed_credit_limit = X['Changed_Credit_Limit'].mean()\n",
    "        self.mean_num_credit_inquiries = X['Num_Credit_Inquiries'].mean()\n",
    "        self.cm_le = LabelEncoder() # create label-encoder\n",
    "        encoded_credit_mix = pd.Series(self.cm_le.fit_transform(X[\"Credit_Mix\"])) # fit and transform credit mix with label-encoder\n",
    "        self.majority_credit_mix = encoded_credit_mix.mode()[0] # obtain majority credit mix code\n",
    "        self.mean_outstanding_debt = X['Outstanding_Debt'].mean()\n",
    "        self.mean_credit_history_age = X['Credit_History_Age'].mean()\n",
    "        self.pma_le = LabelEncoder() # create label-encoder\n",
    "        encoded_payment_of_min_amount = pd.Series(self.pma_le.fit_transform(X[\"Payment_of_Min_Amount\"])) # fit and transform payment of min amount with label-encoder\n",
    "        self.majority_payment_of_min_amount = encoded_payment_of_min_amount.mode()[0] # obtain majority payment of min amount\n",
    "        self.mean_total_EMI_per_month = X['Total_EMI_per_month'].mean()\n",
    "        self.mean_amount_invested_monthly = X['Amount_invested_monthly'].mean()\n",
    "        self.pb_le = LabelEncoder() # create label-encoder\n",
    "        encoded_payment_behaviour = pd.Series(self.pb_le.fit_transform(X[\"Payment_Behaviour\"])) # fit and transform payment behaviour with label-encoder\n",
    "        self.majority_payment_behaviour = encoded_payment_behaviour.mode()[0] # obtain majority payment behaviour\n",
    "        self.mean_monthly_balance = X['Monthly_Balance'].mean()\n",
    "        \n",
    "    def transform(self, X, y=None):\n",
    "        new_df = pd.DataFrame()\n",
    "        new_df[\"Age\"] = X[\"Age\"]\n",
    "        new_df[\"Age\"].fillna(self.mean_age,inplace=True)\n",
    "        new_df[\"Occupation\"] = self.occu_le.transform(X[\"Occupation\"])\n",
    "        new_df[\"Occupation\"].fillna(self.majority_occupation,inplace=True)\n",
    "        new_df[\"Annual_Income\"] = X[\"Annual_Income\"]\n",
    "        new_df[\"Annual_Income\"].fillna(self.mean_annual_income,inplace=True)\n",
    "        new_df[\"Monthly_Inhand_Salary\"] = X[\"Monthly_Inhand_Salary\"]\n",
    "        new_df[\"Monthly_Inhand_Salary\"].fillna(self.mean_monthly_inhand_salary,inplace=True)\n",
    "        new_df[\"Num_Bank_Accounts\"] = X[\"Num_Bank_Accounts\"]\n",
    "        new_df[\"Num_Bank_Accounts\"].fillna(self.mean_num_bank_accounts,inplace=True)\n",
    "        new_df[\"Num_Credit_Card\"] = X[\"Num_Credit_Card\"]\n",
    "        new_df[\"Num_Credit_Card\"].fillna(self.mean_num_creadit_card,inplace=True)\n",
    "        new_df[\"Interest_Rate\"] = X[\"Interest_Rate\"]\n",
    "        new_df[\"Interest_Rate\"].fillna(self.mean_num_interest_rate,inplace=True)\n",
    "        new_df[\"Num_of_Loan\"] = X[\"Num_of_Loan\"]\n",
    "        new_df[\"Num_of_Loan\"].fillna(self.mean_num_of_loan,inplace=True)\n",
    "        new_df[\"Delay_from_due_date\"] = X[\"Delay_from_due_date\"]\n",
    "        new_df[\"Delay_from_due_date\"].fillna(self.mean_delay_from_due_date,inplace=True)\n",
    "        new_df[\"Num_of_Delayed_Payment\"] = X[\"Num_of_Delayed_Payment\"]\n",
    "        new_df[\"Num_of_Delayed_Payment\"].fillna(self.mean_num_of_delayed_payment,inplace=True)\n",
    "        new_df[\"Changed_Credit_Limit\"] = X[\"Changed_Credit_Limit\"]\n",
    "        new_df[\"Changed_Credit_Limit\"].fillna(self.mean_changed_credit_limit,inplace=True)\n",
    "        new_df[\"Num_Credit_Inquiries\"] = X[\"Num_Credit_Inquiries\"]\n",
    "        new_df[\"Num_Credit_Inquiries\"].fillna(self.mean_num_credit_inquiries,inplace=True)\n",
    "        new_df[\"Credit_Mix\"] = self.cm_le.transform(X[\"Credit_Mix\"])\n",
    "        new_df[\"Credit_Mix\"].fillna(self.majority_credit_mix,inplace=True)\n",
    "        new_df[\"Outstanding_Debt\"] = X[\"Outstanding_Debt\"]\n",
    "        new_df[\"Outstanding_Debt\"].fillna(self.mean_outstanding_debt,inplace=True)\n",
    "        new_df[\"Credit_History_Age\"] = X[\"Credit_History_Age\"]\n",
    "        new_df[\"Credit_History_Age\"].fillna(self.mean_credit_history_age,inplace=True)\n",
    "        new_df[\"Payment_of_Min_Amount\"] = self.pma_le.transform(X[\"Payment_of_Min_Amount\"])\n",
    "        new_df[\"Payment_of_Min_Amount\"].fillna(self.majority_payment_of_min_amount,inplace=True)\n",
    "        new_df[\"Total_EMI_per_month\"] = X[\"Total_EMI_per_month\"]\n",
    "        new_df[\"Total_EMI_per_month\"].fillna(self.mean_total_EMI_per_month,inplace=True)\n",
    "        new_df[\"Amount_invested_monthly\"] = X[\"Amount_invested_monthly\"]\n",
    "        new_df[\"Amount_invested_monthly\"].fillna(self.mean_amount_invested_monthly,inplace=True)\n",
    "        new_df[\"Payment_Behaviour\"] = self.pb_le.transform(X[\"Payment_Behaviour\"])\n",
    "        new_df[\"Payment_Behaviour\"].fillna(self.majority_payment_behaviour,inplace=True)\n",
    "        new_df[\"Monthly_Balance\"] = X[\"Monthly_Balance\"]\n",
    "        new_df[\"Monthly_Balance\"].fillna(self.mean_monthly_balance,inplace=True)\n",
    "        return new_df\n",
    "    \n",
    "    def fit_transform(self, X, y=None):\n",
    "        self.fit(X)\n",
    "        return self.transform(X)"
   ]
  },
  {
   "cell_type": "code",
   "execution_count": 6,
   "metadata": {},
   "outputs": [],
   "source": [
    "from sklearn.pipeline import Pipeline\n",
    "from sklearn.preprocessing import MinMaxScaler\n",
    "import tensorflow as tf\n",
    "from tensorflow.keras import layers, models\n",
    "from scikeras.wrappers import KerasClassifier\n",
    "from sklearn.model_selection import GridSearchCV\n",
    "from sklearn.metrics import make_scorer, recall_score, classification_report, confusion_matrix"
   ]
  },
  {
   "cell_type": "code",
   "execution_count": 7,
   "metadata": {},
   "outputs": [],
   "source": [
    "num_classes = 3\n",
    "y_train_onehot = tf.keras.utils.to_categorical(y_train, num_classes)\n",
    "#If binary classification, no need to use onehot encoding"
   ]
  },
  {
   "cell_type": "code",
   "execution_count": 8,
   "metadata": {},
   "outputs": [],
   "source": [
    "def create_nn_model(optimizer='rmsprop'):\n",
    "    nn_model = models.Sequential()\n",
    "    nn_model.add(layers.Dense(64, activation='relu', input_shape=(20,)))\n",
    "    nn_model.add(layers.Dense(32, activation='relu'))\n",
    "    nn_model.add(layers.Dense(num_classes, activation='softmax'))\n",
    "    #If binary classification, units=1 and activation='sigmoid'\n",
    "\n",
    "    nn_model.compile(optimizer=optimizer, loss='categorical_crossentropy', metrics=['categorical_accuracy'])\n",
    "    #If binary classification, loss='binary_crossentropy' and metrics=['binary_accuracy']\n",
    "\n",
    "    return nn_model"
   ]
  },
  {
   "cell_type": "code",
   "execution_count": 9,
   "metadata": {},
   "outputs": [],
   "source": [
    "steps =[('dtf', Data_Transformer()),\n",
    "        ('rescale', MinMaxScaler()),\n",
    "        ('keras_model', KerasClassifier(model=create_nn_model, verbose=0))]\n",
    "model = Pipeline(steps)\n",
    "param_grid = {'keras_model__batch_size': [32, 64],\n",
    "                'keras_model__epochs': [10, 50, 100],\n",
    "                'keras_model__optimizer': ['rmsprop', 'adam']}\n",
    "model_gsv = GridSearchCV(estimator=model, param_grid=param_grid, cv=2, scoring=make_scorer(recall_score, average='micro', greater_is_better=True))"
   ]
  },
  {
   "cell_type": "code",
   "execution_count": 10,
   "metadata": {},
   "outputs": [
    {
     "data": {
      "text/html": [
       "<style>#sk-container-id-1 {color: black;}#sk-container-id-1 pre{padding: 0;}#sk-container-id-1 div.sk-toggleable {background-color: white;}#sk-container-id-1 label.sk-toggleable__label {cursor: pointer;display: block;width: 100%;margin-bottom: 0;padding: 0.3em;box-sizing: border-box;text-align: center;}#sk-container-id-1 label.sk-toggleable__label-arrow:before {content: \"▸\";float: left;margin-right: 0.25em;color: #696969;}#sk-container-id-1 label.sk-toggleable__label-arrow:hover:before {color: black;}#sk-container-id-1 div.sk-estimator:hover label.sk-toggleable__label-arrow:before {color: black;}#sk-container-id-1 div.sk-toggleable__content {max-height: 0;max-width: 0;overflow: hidden;text-align: left;background-color: #f0f8ff;}#sk-container-id-1 div.sk-toggleable__content pre {margin: 0.2em;color: black;border-radius: 0.25em;background-color: #f0f8ff;}#sk-container-id-1 input.sk-toggleable__control:checked~div.sk-toggleable__content {max-height: 200px;max-width: 100%;overflow: auto;}#sk-container-id-1 input.sk-toggleable__control:checked~label.sk-toggleable__label-arrow:before {content: \"▾\";}#sk-container-id-1 div.sk-estimator input.sk-toggleable__control:checked~label.sk-toggleable__label {background-color: #d4ebff;}#sk-container-id-1 div.sk-label input.sk-toggleable__control:checked~label.sk-toggleable__label {background-color: #d4ebff;}#sk-container-id-1 input.sk-hidden--visually {border: 0;clip: rect(1px 1px 1px 1px);clip: rect(1px, 1px, 1px, 1px);height: 1px;margin: -1px;overflow: hidden;padding: 0;position: absolute;width: 1px;}#sk-container-id-1 div.sk-estimator {font-family: monospace;background-color: #f0f8ff;border: 1px dotted black;border-radius: 0.25em;box-sizing: border-box;margin-bottom: 0.5em;}#sk-container-id-1 div.sk-estimator:hover {background-color: #d4ebff;}#sk-container-id-1 div.sk-parallel-item::after {content: \"\";width: 100%;border-bottom: 1px solid gray;flex-grow: 1;}#sk-container-id-1 div.sk-label:hover label.sk-toggleable__label {background-color: #d4ebff;}#sk-container-id-1 div.sk-serial::before {content: \"\";position: absolute;border-left: 1px solid gray;box-sizing: border-box;top: 0;bottom: 0;left: 50%;z-index: 0;}#sk-container-id-1 div.sk-serial {display: flex;flex-direction: column;align-items: center;background-color: white;padding-right: 0.2em;padding-left: 0.2em;position: relative;}#sk-container-id-1 div.sk-item {position: relative;z-index: 1;}#sk-container-id-1 div.sk-parallel {display: flex;align-items: stretch;justify-content: center;background-color: white;position: relative;}#sk-container-id-1 div.sk-item::before, #sk-container-id-1 div.sk-parallel-item::before {content: \"\";position: absolute;border-left: 1px solid gray;box-sizing: border-box;top: 0;bottom: 0;left: 50%;z-index: -1;}#sk-container-id-1 div.sk-parallel-item {display: flex;flex-direction: column;z-index: 1;position: relative;background-color: white;}#sk-container-id-1 div.sk-parallel-item:first-child::after {align-self: flex-end;width: 50%;}#sk-container-id-1 div.sk-parallel-item:last-child::after {align-self: flex-start;width: 50%;}#sk-container-id-1 div.sk-parallel-item:only-child::after {width: 0;}#sk-container-id-1 div.sk-dashed-wrapped {border: 1px dashed gray;margin: 0 0.4em 0.5em 0.4em;box-sizing: border-box;padding-bottom: 0.4em;background-color: white;}#sk-container-id-1 div.sk-label label {font-family: monospace;font-weight: bold;display: inline-block;line-height: 1.2em;}#sk-container-id-1 div.sk-label-container {text-align: center;}#sk-container-id-1 div.sk-container {/* jupyter's `normalize.less` sets `[hidden] { display: none; }` but bootstrap.min.css set `[hidden] { display: none !important; }` so we also need the `!important` here to be able to override the default hidden behavior on the sphinx rendered scikit-learn.org. See: https://github.com/scikit-learn/scikit-learn/issues/21755 */display: inline-block !important;position: relative;}#sk-container-id-1 div.sk-text-repr-fallback {display: none;}</style><div id=\"sk-container-id-1\" class=\"sk-top-container\"><div class=\"sk-text-repr-fallback\"><pre>GridSearchCV(cv=2,\n",
       "             estimator=Pipeline(steps=[(&#x27;dtf&#x27;,\n",
       "                                        &lt;__main__.Data_Transformer object at 0x0000024AC104E010&gt;),\n",
       "                                       (&#x27;rescale&#x27;, MinMaxScaler()),\n",
       "                                       (&#x27;keras_model&#x27;,\n",
       "                                        KerasClassifier(model=&lt;function create_nn_model at 0x0000024AB0AE3D80&gt;, verbose=0))]),\n",
       "             param_grid={&#x27;keras_model__batch_size&#x27;: [32, 64],\n",
       "                         &#x27;keras_model__epochs&#x27;: [10, 50, 100],\n",
       "                         &#x27;keras_model__optimizer&#x27;: [&#x27;rmsprop&#x27;, &#x27;adam&#x27;]},\n",
       "             scoring=make_scorer(recall_score, average=micro))</pre><b>In a Jupyter environment, please rerun this cell to show the HTML representation or trust the notebook. <br />On GitHub, the HTML representation is unable to render, please try loading this page with nbviewer.org.</b></div><div class=\"sk-container\" hidden><div class=\"sk-item sk-dashed-wrapped\"><div class=\"sk-label-container\"><div class=\"sk-label sk-toggleable\"><input class=\"sk-toggleable__control sk-hidden--visually\" id=\"sk-estimator-id-1\" type=\"checkbox\" ><label for=\"sk-estimator-id-1\" class=\"sk-toggleable__label sk-toggleable__label-arrow\">GridSearchCV</label><div class=\"sk-toggleable__content\"><pre>GridSearchCV(cv=2,\n",
       "             estimator=Pipeline(steps=[(&#x27;dtf&#x27;,\n",
       "                                        &lt;__main__.Data_Transformer object at 0x0000024AC104E010&gt;),\n",
       "                                       (&#x27;rescale&#x27;, MinMaxScaler()),\n",
       "                                       (&#x27;keras_model&#x27;,\n",
       "                                        KerasClassifier(model=&lt;function create_nn_model at 0x0000024AB0AE3D80&gt;, verbose=0))]),\n",
       "             param_grid={&#x27;keras_model__batch_size&#x27;: [32, 64],\n",
       "                         &#x27;keras_model__epochs&#x27;: [10, 50, 100],\n",
       "                         &#x27;keras_model__optimizer&#x27;: [&#x27;rmsprop&#x27;, &#x27;adam&#x27;]},\n",
       "             scoring=make_scorer(recall_score, average=micro))</pre></div></div></div><div class=\"sk-parallel\"><div class=\"sk-parallel-item\"><div class=\"sk-item\"><div class=\"sk-label-container\"><div class=\"sk-label sk-toggleable\"><input class=\"sk-toggleable__control sk-hidden--visually\" id=\"sk-estimator-id-2\" type=\"checkbox\" ><label for=\"sk-estimator-id-2\" class=\"sk-toggleable__label sk-toggleable__label-arrow\">estimator: Pipeline</label><div class=\"sk-toggleable__content\"><pre>Pipeline(steps=[(&#x27;dtf&#x27;,\n",
       "                 &lt;__main__.Data_Transformer object at 0x0000024AC104E010&gt;),\n",
       "                (&#x27;rescale&#x27;, MinMaxScaler()),\n",
       "                (&#x27;keras_model&#x27;,\n",
       "                 KerasClassifier(model=&lt;function create_nn_model at 0x0000024AB0AE3D80&gt;, verbose=0))])</pre></div></div></div><div class=\"sk-serial\"><div class=\"sk-item\"><div class=\"sk-serial\"><div class=\"sk-item\"><div class=\"sk-estimator sk-toggleable\"><input class=\"sk-toggleable__control sk-hidden--visually\" id=\"sk-estimator-id-3\" type=\"checkbox\" ><label for=\"sk-estimator-id-3\" class=\"sk-toggleable__label sk-toggleable__label-arrow\">Data_Transformer</label><div class=\"sk-toggleable__content\"><pre>&lt;__main__.Data_Transformer object at 0x0000024AC104E010&gt;</pre></div></div></div><div class=\"sk-item\"><div class=\"sk-estimator sk-toggleable\"><input class=\"sk-toggleable__control sk-hidden--visually\" id=\"sk-estimator-id-4\" type=\"checkbox\" ><label for=\"sk-estimator-id-4\" class=\"sk-toggleable__label sk-toggleable__label-arrow\">MinMaxScaler</label><div class=\"sk-toggleable__content\"><pre>MinMaxScaler()</pre></div></div></div><div class=\"sk-item\"><div class=\"sk-estimator sk-toggleable\"><input class=\"sk-toggleable__control sk-hidden--visually\" id=\"sk-estimator-id-5\" type=\"checkbox\" ><label for=\"sk-estimator-id-5\" class=\"sk-toggleable__label sk-toggleable__label-arrow\">KerasClassifier</label><div class=\"sk-toggleable__content\"><pre>KerasClassifier(\n",
       "\tmodel=&lt;function create_nn_model at 0x0000024AB0AE3D80&gt;\n",
       "\tbuild_fn=None\n",
       "\twarm_start=False\n",
       "\trandom_state=None\n",
       "\toptimizer=rmsprop\n",
       "\tloss=None\n",
       "\tmetrics=None\n",
       "\tbatch_size=None\n",
       "\tvalidation_batch_size=None\n",
       "\tverbose=0\n",
       "\tcallbacks=None\n",
       "\tvalidation_split=0.0\n",
       "\tshuffle=True\n",
       "\trun_eagerly=False\n",
       "\tepochs=1\n",
       "\tclass_weight=None\n",
       ")</pre></div></div></div></div></div></div></div></div></div></div></div></div>"
      ],
      "text/plain": [
       "GridSearchCV(cv=2,\n",
       "             estimator=Pipeline(steps=[('dtf',\n",
       "                                        <__main__.Data_Transformer object at 0x0000024AC104E010>),\n",
       "                                       ('rescale', MinMaxScaler()),\n",
       "                                       ('keras_model',\n",
       "                                        KerasClassifier(model=<function create_nn_model at 0x0000024AB0AE3D80>, verbose=0))]),\n",
       "             param_grid={'keras_model__batch_size': [32, 64],\n",
       "                         'keras_model__epochs': [10, 50, 100],\n",
       "                         'keras_model__optimizer': ['rmsprop', 'adam']},\n",
       "             scoring=make_scorer(recall_score, average=micro))"
      ]
     },
     "execution_count": 10,
     "metadata": {},
     "output_type": "execute_result"
    }
   ],
   "source": [
    "model_gsv.fit(X_train, y_train_onehot)\n",
    "#If binary classification, train with y_train"
   ]
  },
  {
   "cell_type": "code",
   "execution_count": 11,
   "metadata": {},
   "outputs": [
    {
     "data": {
      "text/plain": [
       "{'keras_model__batch_size': 32,\n",
       " 'keras_model__epochs': 50,\n",
       " 'keras_model__optimizer': 'adam'}"
      ]
     },
     "execution_count": 11,
     "metadata": {},
     "output_type": "execute_result"
    }
   ],
   "source": [
    "model_gsv.best_params_"
   ]
  },
  {
   "cell_type": "code",
   "execution_count": 12,
   "metadata": {},
   "outputs": [
    {
     "data": {
      "text/html": [
       "<div>\n",
       "<style scoped>\n",
       "    .dataframe tbody tr th:only-of-type {\n",
       "        vertical-align: middle;\n",
       "    }\n",
       "\n",
       "    .dataframe tbody tr th {\n",
       "        vertical-align: top;\n",
       "    }\n",
       "\n",
       "    .dataframe thead th {\n",
       "        text-align: right;\n",
       "    }\n",
       "</style>\n",
       "<table border=\"1\" class=\"dataframe\">\n",
       "  <thead>\n",
       "    <tr style=\"text-align: right;\">\n",
       "      <th></th>\n",
       "      <th>param_keras_model__batch_size</th>\n",
       "      <th>param_keras_model__epochs</th>\n",
       "      <th>param_keras_model__optimizer</th>\n",
       "      <th>mean_test_score</th>\n",
       "      <th>rank_test_score</th>\n",
       "    </tr>\n",
       "  </thead>\n",
       "  <tbody>\n",
       "    <tr>\n",
       "      <th>0</th>\n",
       "      <td>32</td>\n",
       "      <td>10</td>\n",
       "      <td>rmsprop</td>\n",
       "      <td>0.7284</td>\n",
       "      <td>8</td>\n",
       "    </tr>\n",
       "    <tr>\n",
       "      <th>1</th>\n",
       "      <td>32</td>\n",
       "      <td>10</td>\n",
       "      <td>adam</td>\n",
       "      <td>0.7215</td>\n",
       "      <td>11</td>\n",
       "    </tr>\n",
       "    <tr>\n",
       "      <th>2</th>\n",
       "      <td>32</td>\n",
       "      <td>50</td>\n",
       "      <td>rmsprop</td>\n",
       "      <td>0.7402</td>\n",
       "      <td>3</td>\n",
       "    </tr>\n",
       "    <tr>\n",
       "      <th>3</th>\n",
       "      <td>32</td>\n",
       "      <td>50</td>\n",
       "      <td>adam</td>\n",
       "      <td>0.7421</td>\n",
       "      <td>1</td>\n",
       "    </tr>\n",
       "    <tr>\n",
       "      <th>4</th>\n",
       "      <td>32</td>\n",
       "      <td>100</td>\n",
       "      <td>rmsprop</td>\n",
       "      <td>0.7302</td>\n",
       "      <td>7</td>\n",
       "    </tr>\n",
       "    <tr>\n",
       "      <th>5</th>\n",
       "      <td>32</td>\n",
       "      <td>100</td>\n",
       "      <td>adam</td>\n",
       "      <td>0.7353</td>\n",
       "      <td>5</td>\n",
       "    </tr>\n",
       "    <tr>\n",
       "      <th>6</th>\n",
       "      <td>64</td>\n",
       "      <td>10</td>\n",
       "      <td>rmsprop</td>\n",
       "      <td>0.7148</td>\n",
       "      <td>12</td>\n",
       "    </tr>\n",
       "    <tr>\n",
       "      <th>7</th>\n",
       "      <td>64</td>\n",
       "      <td>10</td>\n",
       "      <td>adam</td>\n",
       "      <td>0.7251</td>\n",
       "      <td>10</td>\n",
       "    </tr>\n",
       "    <tr>\n",
       "      <th>8</th>\n",
       "      <td>64</td>\n",
       "      <td>50</td>\n",
       "      <td>rmsprop</td>\n",
       "      <td>0.7373</td>\n",
       "      <td>4</td>\n",
       "    </tr>\n",
       "    <tr>\n",
       "      <th>9</th>\n",
       "      <td>64</td>\n",
       "      <td>50</td>\n",
       "      <td>adam</td>\n",
       "      <td>0.7413</td>\n",
       "      <td>2</td>\n",
       "    </tr>\n",
       "    <tr>\n",
       "      <th>10</th>\n",
       "      <td>64</td>\n",
       "      <td>100</td>\n",
       "      <td>rmsprop</td>\n",
       "      <td>0.7352</td>\n",
       "      <td>6</td>\n",
       "    </tr>\n",
       "    <tr>\n",
       "      <th>11</th>\n",
       "      <td>64</td>\n",
       "      <td>100</td>\n",
       "      <td>adam</td>\n",
       "      <td>0.7276</td>\n",
       "      <td>9</td>\n",
       "    </tr>\n",
       "  </tbody>\n",
       "</table>\n",
       "</div>"
      ],
      "text/plain": [
       "   param_keras_model__batch_size param_keras_model__epochs  \\\n",
       "0                             32                        10   \n",
       "1                             32                        10   \n",
       "2                             32                        50   \n",
       "3                             32                        50   \n",
       "4                             32                       100   \n",
       "5                             32                       100   \n",
       "6                             64                        10   \n",
       "7                             64                        10   \n",
       "8                             64                        50   \n",
       "9                             64                        50   \n",
       "10                            64                       100   \n",
       "11                            64                       100   \n",
       "\n",
       "   param_keras_model__optimizer  mean_test_score  rank_test_score  \n",
       "0                       rmsprop           0.7284                8  \n",
       "1                          adam           0.7215               11  \n",
       "2                       rmsprop           0.7402                3  \n",
       "3                          adam           0.7421                1  \n",
       "4                       rmsprop           0.7302                7  \n",
       "5                          adam           0.7353                5  \n",
       "6                       rmsprop           0.7148               12  \n",
       "7                          adam           0.7251               10  \n",
       "8                       rmsprop           0.7373                4  \n",
       "9                          adam           0.7413                2  \n",
       "10                      rmsprop           0.7352                6  \n",
       "11                         adam           0.7276                9  "
      ]
     },
     "execution_count": 12,
     "metadata": {},
     "output_type": "execute_result"
    }
   ],
   "source": [
    "result = model_gsv.cv_results_\n",
    "result = pd.DataFrame(result)[['param_keras_model__batch_size', 'param_keras_model__epochs', 'param_keras_model__optimizer', 'mean_test_score', 'rank_test_score']]\n",
    "result"
   ]
  },
  {
   "cell_type": "code",
   "execution_count": 13,
   "metadata": {},
   "outputs": [
    {
     "data": {
      "text/plain": [
       "array([[0, 1, 0],\n",
       "       [0, 1, 0],\n",
       "       [0, 0, 1],\n",
       "       ...,\n",
       "       [0, 1, 0],\n",
       "       [0, 1, 0],\n",
       "       [0, 0, 1]])"
      ]
     },
     "execution_count": 13,
     "metadata": {},
     "output_type": "execute_result"
    }
   ],
   "source": [
    "y_test_pred = model_gsv.predict(X_test)\n",
    "y_test_pred"
   ]
  },
  {
   "cell_type": "code",
   "execution_count": 14,
   "metadata": {},
   "outputs": [
    {
     "data": {
      "text/plain": [
       "array([1, 1, 2, ..., 1, 1, 2], dtype=int64)"
      ]
     },
     "execution_count": 14,
     "metadata": {},
     "output_type": "execute_result"
    }
   ],
   "source": [
    "y_test_pred = np.argmax(y_test_pred, axis=1)\n",
    "y_test_pred"
   ]
  },
  {
   "cell_type": "code",
   "execution_count": 15,
   "metadata": {},
   "outputs": [
    {
     "name": "stdout",
     "output_type": "stream",
     "text": [
      "              precision    recall  f1-score   support\n",
      "\n",
      "           0       0.76      0.77      0.77       822\n",
      "           1       0.81      0.72      0.76      1217\n",
      "           2       0.62      0.81      0.70       461\n",
      "\n",
      "    accuracy                           0.75      2500\n",
      "   macro avg       0.73      0.76      0.74      2500\n",
      "weighted avg       0.76      0.75      0.75      2500\n",
      "\n"
     ]
    }
   ],
   "source": [
    "print(classification_report(y_test,y_test_pred))"
   ]
  },
  {
   "cell_type": "code",
   "execution_count": 16,
   "metadata": {},
   "outputs": [
    {
     "data": {
      "text/plain": [
       "array([[630, 125,  67],\n",
       "       [182, 872, 163],\n",
       "       [ 13,  75, 373]], dtype=int64)"
      ]
     },
     "execution_count": 16,
     "metadata": {},
     "output_type": "execute_result"
    }
   ],
   "source": [
    "confusion_matrix(y_test,y_test_pred)"
   ]
  },
  {
   "cell_type": "code",
   "execution_count": 17,
   "metadata": {},
   "outputs": [
    {
     "data": {
      "text/plain": [
       "array([[0.02442825, 0.968869  , 0.0067028 ],\n",
       "       [0.1062149 , 0.88589483, 0.00789035],\n",
       "       [0.25390956, 0.31539875, 0.4306917 ],\n",
       "       ...,\n",
       "       [0.0252195 , 0.9659308 , 0.00884975],\n",
       "       [0.07218572, 0.8930501 , 0.03476419],\n",
       "       [0.00714485, 0.07175433, 0.92110085]], dtype=float32)"
      ]
     },
     "execution_count": 17,
     "metadata": {},
     "output_type": "execute_result"
    }
   ],
   "source": [
    "y_test_pred_proba = model_gsv.predict_proba(X_test)\n",
    "y_test_pred_proba"
   ]
  },
  {
   "cell_type": "code",
   "execution_count": 18,
   "metadata": {},
   "outputs": [
    {
     "data": {
      "text/plain": [
       "Text(0.5, 1.0, 'Receiver Operating Characteristic - NeuralNetworkClassifier (Tensorflow)')"
      ]
     },
     "execution_count": 18,
     "metadata": {},
     "output_type": "execute_result"
    },
    {
     "data": {
      "image/png": "[encoded data removed]",
      "text/plain": [
       "<Figure size 800x600 with 1 Axes>"
      ]
     },
     "metadata": {},
     "output_type": "display_data"
    }
   ],
   "source": [
    "from sklearn.metrics import roc_curve, roc_auc_score\n",
    "\n",
    "plt.figure(figsize=(8, 6))\n",
    "for class_idx in range(len(model_gsv.best_estimator_.classes_)):\n",
    "    y_true = (y_test == model_gsv.best_estimator_.classes_[class_idx]).astype(int)\n",
    "    y_pred_proba = y_test_pred_proba[:, class_idx]\n",
    "    fpr, tpr, _ = roc_curve(y_true, y_pred_proba)\n",
    "    roc_auc = roc_auc_score(y_true, y_pred_proba)\n",
    "    plt.plot(fpr, tpr, label=f'Class {model_gsv.best_estimator_.classes_[class_idx]} (AUC = {roc_auc:.2f})')\n",
    "plt.plot([0, 1], [0, 1], 'k--')\n",
    "plt.legend(loc='lower right')\n",
    "plt.xlim(0, 1)\n",
    "plt.ylim(0, 1)\n",
    "plt.xlabel('False Positive Rate')\n",
    "plt.ylabel('True Positive Rate')\n",
    "plt.title('Receiver Operating Characteristic - NeuralNetworkClassifier (Tensorflow)')"
   ]
  }
 ],
 "metadata": {
  "kernelspec": {
   "display_name": "base",
   "language": "python",
   "name": "python3"
  },
  "language_info": {
   "codemirror_mode": {
    "name": "ipython",
    "version": 3
   },
   "file_extension": ".py",
   "mimetype": "text/x-python",
   "name": "python",
   "nbconvert_exporter": "python",
   "pygments_lexer": "ipython3",
   "version": "3.11.4"
  },
  "orig_nbformat": 4
 },
 "nbformat": 4,
 "nbformat_minor": 2
}
